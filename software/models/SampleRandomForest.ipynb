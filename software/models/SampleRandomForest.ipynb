{
 "cells": [
  {
   "cell_type": "markdown",
   "metadata": {},
   "source": [
    "## Random Forest Regression model with Sample PPG dataset\n",
    "\n",
    "Sample model that is tested on a generated dataset"
   ]
  },
  {
   "cell_type": "code",
   "execution_count": 1,
   "metadata": {},
   "outputs": [
    {
     "name": "stderr",
     "output_type": "stream",
     "text": [
      "/Library/Frameworks/Python.framework/Versions/3.10/lib/python3.10/site-packages/scipy/__init__.py:146: UserWarning: A NumPy version >=1.17.3 and <1.25.0 is required for this version of SciPy (detected version 1.26.4\n",
      "  warnings.warn(f\"A NumPy version >={np_minversion} and <{np_maxversion}\"\n"
     ]
    }
   ],
   "source": [
    "import pandas as pd\n",
    "import numpy as np\n",
    "import matplotlib.pyplot as plt\n",
    "import seaborn as sns\n",
    "from sklearn.model_selection import train_test_split\n",
    "from sklearn.ensemble import RandomForestRegressor\n",
    "from sklearn.metrics import mean_absolute_error, mean_squared_error, r2_score"
   ]
  },
  {
   "cell_type": "code",
   "execution_count": 2,
   "metadata": {},
   "outputs": [
    {
     "data": {
      "text/html": [
       "<div>\n",
       "<style scoped>\n",
       "    .dataframe tbody tr th:only-of-type {\n",
       "        vertical-align: middle;\n",
       "    }\n",
       "\n",
       "    .dataframe tbody tr th {\n",
       "        vertical-align: top;\n",
       "    }\n",
       "\n",
       "    .dataframe thead th {\n",
       "        text-align: right;\n",
       "    }\n",
       "</style>\n",
       "<table border=\"1\" class=\"dataframe\">\n",
       "  <thead>\n",
       "    <tr style=\"text-align: right;\">\n",
       "      <th></th>\n",
       "      <th>PPG_value</th>\n",
       "      <th>Blood_Glucose_Level</th>\n",
       "      <th>Age</th>\n",
       "      <th>Gender</th>\n",
       "      <th>Weight_lbs</th>\n",
       "      <th>Height_cm</th>\n",
       "    </tr>\n",
       "  </thead>\n",
       "  <tbody>\n",
       "    <tr>\n",
       "      <th>0</th>\n",
       "      <td>2.113867</td>\n",
       "      <td>74</td>\n",
       "      <td>62</td>\n",
       "      <td>Female</td>\n",
       "      <td>161.963011</td>\n",
       "      <td>160.302693</td>\n",
       "    </tr>\n",
       "    <tr>\n",
       "      <th>1</th>\n",
       "      <td>2.473495</td>\n",
       "      <td>142</td>\n",
       "      <td>36</td>\n",
       "      <td>Male</td>\n",
       "      <td>233.879806</td>\n",
       "      <td>198.559018</td>\n",
       "    </tr>\n",
       "    <tr>\n",
       "      <th>2</th>\n",
       "      <td>1.300439</td>\n",
       "      <td>167</td>\n",
       "      <td>29</td>\n",
       "      <td>Female</td>\n",
       "      <td>178.215246</td>\n",
       "      <td>169.451823</td>\n",
       "    </tr>\n",
       "    <tr>\n",
       "      <th>3</th>\n",
       "      <td>1.200748</td>\n",
       "      <td>192</td>\n",
       "      <td>55</td>\n",
       "      <td>Female</td>\n",
       "      <td>221.368596</td>\n",
       "      <td>159.198901</td>\n",
       "    </tr>\n",
       "    <tr>\n",
       "      <th>4</th>\n",
       "      <td>1.463905</td>\n",
       "      <td>173</td>\n",
       "      <td>25</td>\n",
       "      <td>Female</td>\n",
       "      <td>194.009060</td>\n",
       "      <td>155.456815</td>\n",
       "    </tr>\n",
       "  </tbody>\n",
       "</table>\n",
       "</div>"
      ],
      "text/plain": [
       "   PPG_value  Blood_Glucose_Level  Age  Gender  Weight_lbs   Height_cm\n",
       "0   2.113867                   74   62  Female  161.963011  160.302693\n",
       "1   2.473495                  142   36    Male  233.879806  198.559018\n",
       "2   1.300439                  167   29  Female  178.215246  169.451823\n",
       "3   1.200748                  192   55  Female  221.368596  159.198901\n",
       "4   1.463905                  173   25  Female  194.009060  155.456815"
      ]
     },
     "metadata": {},
     "output_type": "display_data"
    }
   ],
   "source": [
    "df = pd.read_csv(\"../data-collection/data/raw/Sample_PPG___Glucose_Data.csv\")\n",
    "display(df.head())"
   ]
  },
  {
   "cell_type": "code",
   "execution_count": 3,
   "metadata": {},
   "outputs": [],
   "source": [
    "# Select features (PPG_value) and target variable (Blood_Glucose_Level)\n",
    "X = df[[\"PPG_value\"]]  # Feature\n",
    "y = df[\"Blood_Glucose_Level\"]  # Target\n",
    "\n",
    "# Split into training and test sets (80% train, 20% test)\n",
    "X_train, X_test, y_train, y_test = train_test_split(X, y, test_size=0.2, random_state=42)"
   ]
  },
  {
   "cell_type": "code",
   "execution_count": 4,
   "metadata": {},
   "outputs": [
    {
     "data": {
      "text/plain": [
       "RandomForestRegressor(random_state=42)"
      ]
     },
     "execution_count": 4,
     "metadata": {},
     "output_type": "execute_result"
    }
   ],
   "source": [
    "# Initialize the Random Forest model\n",
    "model = RandomForestRegressor(n_estimators=100, random_state=42)\n",
    "\n",
    "# Train the model on the training data\n",
    "model.fit(X_train, y_train)"
   ]
  },
  {
   "cell_type": "code",
   "execution_count": 5,
   "metadata": {},
   "outputs": [
    {
     "name": "stdout",
     "output_type": "stream",
     "text": [
      "Mean Absolute Error (MAE): 38.07\n",
      "Mean Squared Error (MSE): 1955.42\n",
      "Root Mean Squared Error (RMSE): 44.22\n",
      "R-squared (R2 Score): -0.92\n"
     ]
    }
   ],
   "source": [
    "# Make predictions\n",
    "y_pred = model.predict(X_test)\n",
    "\n",
    "# Compute evaluation metrics\n",
    "mae = mean_absolute_error(y_test, y_pred)\n",
    "mse = mean_squared_error(y_test, y_pred)\n",
    "rmse = np.sqrt(mse)\n",
    "r2 = r2_score(y_test, y_pred)\n",
    "\n",
    "# Display results\n",
    "print(f\"Mean Absolute Error (MAE): {mae:.2f}\")\n",
    "print(f\"Mean Squared Error (MSE): {mse:.2f}\")\n",
    "print(f\"Root Mean Squared Error (RMSE): {rmse:.2f}\")\n",
    "print(f\"R-squared (R2 Score): {r2:.2f}\")"
   ]
  },
  {
   "cell_type": "code",
   "execution_count": 6,
   "metadata": {},
   "outputs": [
    {
     "data": {
      "image/png": "[encoded data removed]",
      "text/plain": [
       "<Figure size 800x600 with 1 Axes>"
      ]
     },
     "metadata": {},
     "output_type": "display_data"
    }
   ],
   "source": [
    "plt.figure(figsize=(8,6))\n",
    "sns.scatterplot(x=X_test[\"PPG_value\"], y=y_test, label=\"Actual\", color='blue')\n",
    "sns.scatterplot(x=X_test[\"PPG_value\"], y=y_pred, label=\"Predicted\", color='red', alpha=0.6)\n",
    "plt.title(\"PPG Value vs Predicted Blood Glucose Level\")\n",
    "plt.xlabel(\"PPG Value\")\n",
    "plt.ylabel(\"Blood Glucose Level (mg/dL)\")\n",
    "plt.legend()\n",
    "plt.show()"
   ]
  },
  {
   "cell_type": "code",
   "execution_count": 7,
   "metadata": {},
   "outputs": [
    {
     "name": "stdout",
     "output_type": "stream",
     "text": [
      "Estimated Blood Glucose Level for PPG=2.5: 112.36 mg/dL\n"
     ]
    },
    {
     "name": "stderr",
     "output_type": "stream",
     "text": [
      "/Library/Frameworks/Python.framework/Versions/3.10/lib/python3.10/site-packages/sklearn/base.py:450: UserWarning: X does not have valid feature names, but RandomForestRegressor was fitted with feature names\n",
      "  warnings.warn(\n"
     ]
    }
   ],
   "source": [
    "def predict_glucose(ppg_value):\n",
    "    estimated_glucose = model.predict([[ppg_value]])[0]\n",
    "    return round(estimated_glucose, 2)\n",
    "\n",
    "# Example usage\n",
    "new_ppg_value = 2.5  # Example PPG value\n",
    "predicted_glucose = predict_glucose(new_ppg_value)\n",
    "print(f\"Estimated Blood Glucose Level for PPG={new_ppg_value}: {predicted_glucose} mg/dL\")"
   ]
  }
 ],
 "metadata": {
  "kernelspec": {
   "display_name": "Python 3",
   "language": "python",
   "name": "python3"
  },
  "language_info": {
   "codemirror_mode": {
    "name": "ipython",
    "version": 3
   },
   "file_extension": ".py",
   "mimetype": "text/x-python",
   "name": "python",
   "nbconvert_exporter": "python",
   "pygments_lexer": "ipython3",
   "version": "3.10.3"
  }
 },
 "nbformat": 4,
 "nbformat_minor": 2
}
